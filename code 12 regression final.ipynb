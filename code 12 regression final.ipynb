{
 "cells": [
  {
   "cell_type": "code",
   "execution_count": 18,
   "id": "484b768b",
   "metadata": {},
   "outputs": [
    {
     "name": "stdout",
     "output_type": "stream",
     "text": [
      "/Users/nathangibson/Downloads\n"
     ]
    }
   ],
   "source": [
    "# check working directory\n",
    "import os\n",
    "import pandas as pd\n",
    "import matplotlib.pyplot as plt\n",
    "from sklearn.linear_model import LogisticRegression\n",
    "\n",
    "current_directory = os.getcwd()\n",
    "print(current_directory)"
   ]
  },
  {
   "cell_type": "code",
   "execution_count": 19,
   "id": "b12d8473",
   "metadata": {},
   "outputs": [],
   "source": [
    "# change working directory\n",
    "new_dir_path = r'/Users/nathangibson/Downloads'\n",
    "os.chdir(new_dir_path)"
   ]
  },
  {
   "cell_type": "code",
   "execution_count": 20,
   "id": "7036944e",
   "metadata": {},
   "outputs": [
    {
     "name": "stdout",
     "output_type": "stream",
     "text": [
      "/Users/nathangibson/Downloads\n"
     ]
    }
   ],
   "source": [
    "updated_dir = os.getcwd()\n",
    "print(updated_dir)"
   ]
  },
  {
   "cell_type": "code",
   "execution_count": 21,
   "id": "58f48f78",
   "metadata": {},
   "outputs": [
    {
     "name": "stdout",
     "output_type": "stream",
     "text": [
      "PatientID, Readmission, StaffSatisfaction, CleanlinessSatisfaction, FoodSatisfaction, ComfortSatisfaction, CommunicationSatisfaction\n",
      "101, 1, 4, 5, 3, 4, 5\n",
      "102, 0, 3, 2, 4, 2, 3\n",
      "103, 1, 5, 4, 5, 4, 4\n",
      "104, 0, 5, 3, 5, 4, 5\n",
      "105, 1, 4, 5, 3, 4, 4\n",
      "106, 1, 2, 3, 2, 3, 3\n",
      "107, 0, 3, 2, 3, 4, 3\n",
      "108, 0, 5, 5, 4, 5, 5\n",
      "109, 1, 4, 4, 4, 4, 4\n",
      "110, 0, 3, 3, 3, 4, 3\n",
      "111, 1, 4, 5, 4, 4, 5\n",
      "112, 0, 2, 3, 2, 3, 2\n",
      "113, 1, 3, 4, 3, 4, 3\n",
      "114, 1, 3, 3, 3, 2, 3\n",
      "115, 0, 5, 4, 5, 5, 5\n",
      "116, 1, 4, 3, 4, 4, 4\n",
      "117, 0, 2, 2, 2, 3, 3\n",
      "118, 0, 5, 5, 4, 4, 5\n",
      "119, 1, 4, 4, 4, 4, 4\n",
      "120, 0, 3, 3, 3, 4, 3\n",
      "121, 1, 4, 5, 5, 4, 4\n",
      "122, 1, 3, 4, 4, 4, 3\n",
      "123, 0, 4, 3, 4, 3, 4\n",
      "124, 0, 2, 2, 2, 3, 3\n",
      "125, 1, 3, 4, 3, 4, 3\n",
      "126, 0, 4, 5, 5, 5, 5\n",
      "127, 1, 3, 4, 4, 4, 3\n",
      "128, 0, 4, 3, 4, 3, 4\n",
      "129, 0, 2, 2, 2, 3, 3\n",
      "130, 1, 3, 4, 3, 4, 3\n"
     ]
    }
   ],
   "source": [
    "file_path = 'Week14Assignment.txt'\n",
    "\n",
    "try:\n",
    "    with open(file_path, 'r') as file:\n",
    "        content = file.read()\n",
    "        print(content)\n",
    "except FileNotFoundError:\n",
    "    print(f\"File '{file_path}' not found.\")\n",
    "except IOError:\n",
    "    print(\"An error occured while reading the file.\")"
   ]
  },
  {
   "cell_type": "code",
   "execution_count": 22,
   "id": "02ae408a",
   "metadata": {},
   "outputs": [],
   "source": [
    "# average age of patients\n",
    "df = pd.read_csv(file_path)"
   ]
  },
  {
   "cell_type": "code",
   "execution_count": 23,
   "id": "1e0c15b1",
   "metadata": {},
   "outputs": [
    {
     "name": "stdout",
     "output_type": "stream",
     "text": [
      "    PatientID   Readmission   StaffSatisfaction   CleanlinessSatisfaction  \\\n",
      "0         101             1                   4                         5   \n",
      "1         102             0                   3                         2   \n",
      "2         103             1                   5                         4   \n",
      "3         104             0                   5                         3   \n",
      "4         105             1                   4                         5   \n",
      "5         106             1                   2                         3   \n",
      "6         107             0                   3                         2   \n",
      "7         108             0                   5                         5   \n",
      "8         109             1                   4                         4   \n",
      "9         110             0                   3                         3   \n",
      "10        111             1                   4                         5   \n",
      "11        112             0                   2                         3   \n",
      "12        113             1                   3                         4   \n",
      "13        114             1                   3                         3   \n",
      "14        115             0                   5                         4   \n",
      "15        116             1                   4                         3   \n",
      "16        117             0                   2                         2   \n",
      "17        118             0                   5                         5   \n",
      "18        119             1                   4                         4   \n",
      "19        120             0                   3                         3   \n",
      "20        121             1                   4                         5   \n",
      "21        122             1                   3                         4   \n",
      "22        123             0                   4                         3   \n",
      "23        124             0                   2                         2   \n",
      "24        125             1                   3                         4   \n",
      "25        126             0                   4                         5   \n",
      "26        127             1                   3                         4   \n",
      "27        128             0                   4                         3   \n",
      "28        129             0                   2                         2   \n",
      "29        130             1                   3                         4   \n",
      "\n",
      "     FoodSatisfaction   ComfortSatisfaction   CommunicationSatisfaction  \n",
      "0                   3                     4                           5  \n",
      "1                   4                     2                           3  \n",
      "2                   5                     4                           4  \n",
      "3                   5                     4                           5  \n",
      "4                   3                     4                           4  \n",
      "5                   2                     3                           3  \n",
      "6                   3                     4                           3  \n",
      "7                   4                     5                           5  \n",
      "8                   4                     4                           4  \n",
      "9                   3                     4                           3  \n",
      "10                  4                     4                           5  \n",
      "11                  2                     3                           2  \n",
      "12                  3                     4                           3  \n",
      "13                  3                     2                           3  \n",
      "14                  5                     5                           5  \n",
      "15                  4                     4                           4  \n",
      "16                  2                     3                           3  \n",
      "17                  4                     4                           5  \n",
      "18                  4                     4                           4  \n",
      "19                  3                     4                           3  \n",
      "20                  5                     4                           4  \n",
      "21                  4                     4                           3  \n",
      "22                  4                     3                           4  \n",
      "23                  2                     3                           3  \n",
      "24                  3                     4                           3  \n",
      "25                  5                     5                           5  \n",
      "26                  4                     4                           3  \n",
      "27                  4                     3                           4  \n",
      "28                  2                     3                           3  \n",
      "29                  3                     4                           3  \n"
     ]
    }
   ],
   "source": [
    "print(df)"
   ]
  },
  {
   "cell_type": "code",
   "execution_count": 24,
   "id": "045567cc",
   "metadata": {},
   "outputs": [
    {
     "name": "stdout",
     "output_type": "stream",
     "text": [
      "Index(['PatientID', ' Readmission', ' StaffSatisfaction',\n",
      "       ' CleanlinessSatisfaction', ' FoodSatisfaction', ' ComfortSatisfaction',\n",
      "       ' CommunicationSatisfaction'],\n",
      "      dtype='object')\n"
     ]
    }
   ],
   "source": [
    "print(df.columns)"
   ]
  },
  {
   "cell_type": "code",
   "execution_count": 25,
   "id": "83e43d9a",
   "metadata": {},
   "outputs": [
    {
     "name": "stdout",
     "output_type": "stream",
     "text": [
      "Number of Patients Readmitted: 15\n",
      "Average Staff Satisfaction: 3.5\n",
      "Average Cleanliness Satisfaction: 3.6\n",
      "Average Food Satisfaction: 3.533333333333333\n",
      "Average Comfort Satisfaction: 3.7333333333333334\n",
      "Average Communication Satisfaction: 3.7\n"
     ]
    }
   ],
   "source": [
    "# number of patients readmitted\n",
    "num_pt_readmitted = (df[' Readmission'] == 1).sum()\n",
    "print(f'Number of Patients Readmitted: {num_pt_readmitted}')\n",
    "\n",
    "# average staff satisfaction\n",
    "avg_staff_satisfaction = df[' StaffSatisfaction'].mean()\n",
    "print(f'Average Staff Satisfaction: {avg_staff_satisfaction}')\n",
    "\n",
    "# average cleanliness satisfaction\n",
    "avg_clean_satisfaction = df[' CleanlinessSatisfaction'].mean()\n",
    "print(f'Average Cleanliness Satisfaction: {avg_clean_satisfaction}')\n",
    "\n",
    "# average food satisfaction\n",
    "avg_food_satisfaction = df[' FoodSatisfaction'].mean()\n",
    "print(f'Average Food Satisfaction: {avg_food_satisfaction}')\n",
    "\n",
    "# average comfort satisfaction\n",
    "avg_comfort_satisfaction = df[' ComfortSatisfaction'].mean()\n",
    "print(f'Average Comfort Satisfaction: {avg_comfort_satisfaction}')\n",
    "\n",
    "# average communication satisfaction\n",
    "avg_comm_satisfaction = df[' CommunicationSatisfaction'].mean()\n",
    "print(f'Average Communication Satisfaction: {avg_comm_satisfaction}')"
   ]
  },
  {
   "cell_type": "code",
   "execution_count": 30,
   "id": "04bc7f7c",
   "metadata": {},
   "outputs": [],
   "source": [
    "df[' OverallSatisfaction'] = df[[' StaffSatisfaction',' CleanlinessSatisfaction', ' FoodSatisfaction', ' ComfortSatisfaction',' CommunicationSatisfaction']].mean(axis=1)                                "
   ]
  },
  {
   "cell_type": "code",
   "execution_count": 31,
   "id": "9866b2da",
   "metadata": {},
   "outputs": [
    {
     "name": "stdout",
     "output_type": "stream",
     "text": [
      "    PatientID   Readmission   StaffSatisfaction   CleanlinessSatisfaction  \\\n",
      "0         101             1                   4                         5   \n",
      "1         102             0                   3                         2   \n",
      "2         103             1                   5                         4   \n",
      "3         104             0                   5                         3   \n",
      "4         105             1                   4                         5   \n",
      "5         106             1                   2                         3   \n",
      "6         107             0                   3                         2   \n",
      "7         108             0                   5                         5   \n",
      "8         109             1                   4                         4   \n",
      "9         110             0                   3                         3   \n",
      "10        111             1                   4                         5   \n",
      "11        112             0                   2                         3   \n",
      "12        113             1                   3                         4   \n",
      "13        114             1                   3                         3   \n",
      "14        115             0                   5                         4   \n",
      "15        116             1                   4                         3   \n",
      "16        117             0                   2                         2   \n",
      "17        118             0                   5                         5   \n",
      "18        119             1                   4                         4   \n",
      "19        120             0                   3                         3   \n",
      "20        121             1                   4                         5   \n",
      "21        122             1                   3                         4   \n",
      "22        123             0                   4                         3   \n",
      "23        124             0                   2                         2   \n",
      "24        125             1                   3                         4   \n",
      "25        126             0                   4                         5   \n",
      "26        127             1                   3                         4   \n",
      "27        128             0                   4                         3   \n",
      "28        129             0                   2                         2   \n",
      "29        130             1                   3                         4   \n",
      "\n",
      "     FoodSatisfaction   ComfortSatisfaction   CommunicationSatisfaction  \\\n",
      "0                   3                     4                           5   \n",
      "1                   4                     2                           3   \n",
      "2                   5                     4                           4   \n",
      "3                   5                     4                           5   \n",
      "4                   3                     4                           4   \n",
      "5                   2                     3                           3   \n",
      "6                   3                     4                           3   \n",
      "7                   4                     5                           5   \n",
      "8                   4                     4                           4   \n",
      "9                   3                     4                           3   \n",
      "10                  4                     4                           5   \n",
      "11                  2                     3                           2   \n",
      "12                  3                     4                           3   \n",
      "13                  3                     2                           3   \n",
      "14                  5                     5                           5   \n",
      "15                  4                     4                           4   \n",
      "16                  2                     3                           3   \n",
      "17                  4                     4                           5   \n",
      "18                  4                     4                           4   \n",
      "19                  3                     4                           3   \n",
      "20                  5                     4                           4   \n",
      "21                  4                     4                           3   \n",
      "22                  4                     3                           4   \n",
      "23                  2                     3                           3   \n",
      "24                  3                     4                           3   \n",
      "25                  5                     5                           5   \n",
      "26                  4                     4                           3   \n",
      "27                  4                     3                           4   \n",
      "28                  2                     3                           3   \n",
      "29                  3                     4                           3   \n",
      "\n",
      "     OverallSatisfaction  \n",
      "0                    4.2  \n",
      "1                    2.8  \n",
      "2                    4.4  \n",
      "3                    4.4  \n",
      "4                    4.0  \n",
      "5                    2.6  \n",
      "6                    3.0  \n",
      "7                    4.8  \n",
      "8                    4.0  \n",
      "9                    3.2  \n",
      "10                   4.4  \n",
      "11                   2.4  \n",
      "12                   3.4  \n",
      "13                   2.8  \n",
      "14                   4.8  \n",
      "15                   3.8  \n",
      "16                   2.4  \n",
      "17                   4.6  \n",
      "18                   4.0  \n",
      "19                   3.2  \n",
      "20                   4.4  \n",
      "21                   3.6  \n",
      "22                   3.6  \n",
      "23                   2.4  \n",
      "24                   3.4  \n",
      "25                   4.8  \n",
      "26                   3.6  \n",
      "27                   3.6  \n",
      "28                   2.4  \n",
      "29                   3.4  \n"
     ]
    }
   ],
   "source": [
    "print(df)"
   ]
  },
  {
   "cell_type": "code",
   "execution_count": 36,
   "id": "0a561031",
   "metadata": {},
   "outputs": [],
   "source": [
    "X = df[' OverallSatisfaction'].values.reshape(-1, 1)\n",
    "Y = df[' Readmission']"
   ]
  },
  {
   "cell_type": "code",
   "execution_count": 52,
   "id": "08e697e9",
   "metadata": {},
   "outputs": [],
   "source": [
    "log_reg = LogisticRegression().fit(X, Y)"
   ]
  },
  {
   "cell_type": "code",
   "execution_count": 53,
   "id": "ca7511b1",
   "metadata": {},
   "outputs": [
    {
     "name": "stdout",
     "output_type": "stream",
     "text": [
      "Correlation between Overall Satisfaction Scores and Readmission: Weak Correlation\n"
     ]
    }
   ],
   "source": [
    "correlation_coeff = log_reg.coef_[0][0]\n",
    "\n",
    "if correlation_coeff >= 0.7:\n",
    "    print('Correlation between Overall Satisfaction Scores and Readmission: Strong Correlation')\n",
    "else:\n",
    "    print('Correlation between Overall Satisfaction Scores and Readmission: Weak Correlation')"
   ]
  },
  {
   "cell_type": "code",
   "execution_count": 58,
   "id": "f6a845f1",
   "metadata": {},
   "outputs": [
    {
     "data": {
      "image/png": "[encoded data removed]",
      "text/plain": [
       "<Figure size 640x480 with 1 Axes>"
      ]
     },
     "metadata": {},
     "output_type": "display_data"
    }
   ],
   "source": [
    "plt.plot(X, log_reg.predict(X), label = \"Regression Line\", color = 'blue')\n",
    "plt.scatter(X, Y, color = 'red')\n",
    "plt.plot(X, log_reg.predict_proba(X)[:, 1], label = \"Pred Prob Line\", color = \"green\")\n",
    "plt.show()"
   ]
  },
  {
   "cell_type": "code",
   "execution_count": null,
   "id": "e0fafdaf",
   "metadata": {},
   "outputs": [],
   "source": []
  }
 ],
 "metadata": {
  "kernelspec": {
   "display_name": "Python 3 (ipykernel)",
   "language": "python",
   "name": "python3"
  },
  "language_info": {
   "codemirror_mode": {
    "name": "ipython",
    "version": 3
   },
   "file_extension": ".py",
   "mimetype": "text/x-python",
   "name": "python",
   "nbconvert_exporter": "python",
   "pygments_lexer": "ipython3",
   "version": "3.10.9"
  }
 },
 "nbformat": 4,
 "nbformat_minor": 5
}
